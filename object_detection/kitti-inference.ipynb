{
 "cells": [
  {
   "cell_type": "markdown",
   "metadata": {},
   "source": [
    "# Object Detection Demo\n",
    "Welcome to the object detection inference walkthrough!  This notebook will walk you step by step through the process of using a pre-trained model to detect objects in an image. Make sure to follow the [installation instructions](https://github.com/tensorflow/models/blob/master/object_detection/g3doc/installation.md) before you start."
   ]
  },
  {
   "cell_type": "markdown",
   "metadata": {},
   "source": [
    "# Imports"
   ]
  },
  {
   "cell_type": "code",
   "execution_count": 2,
   "metadata": {
    "collapsed": true,
    "scrolled": true
   },
   "outputs": [],
   "source": [
    "import numpy as np\n",
    "import os\n",
    "import pickle\n",
    "import six.moves.urllib as urllib\n",
    "import sys\n",
    "sys.path.append(\"..\")\n",
    "import tarfile\n",
    "import tensorflow as tf\n",
    "import zipfile\n",
    "from object_detection.eval_util import evaluate_detection_results_pascal_voc\n",
    "\n",
    "from collections import defaultdict\n",
    "from io import StringIO\n",
    "from matplotlib import pyplot as plt\n",
    "from PIL import Image\n",
    "%matplotlib inline\n",
    "%load_ext autoreload\n",
    "%autoreload 2\n",
    "# This is needed since the notebook is stored in the object_detection folder.\n",
    "\n",
    "from utils import label_map_util\n",
    "\n",
    "from utils import visualization_utils as vis_util"
   ]
  },
  {
   "cell_type": "markdown",
   "metadata": {},
   "source": [
    "## Object detection imports\n",
    "Here are the imports from the object detection module."
   ]
  },
  {
   "cell_type": "code",
   "execution_count": 3,
   "metadata": {
    "collapsed": true
   },
   "outputs": [],
   "source": [
    "from utils import label_map_util\n",
    "\n",
    "from utils import visualization_utils as vis_util\n",
    "def get_annotations(image_path):\n",
    "    img_id = os.path.basename(image_path)[:-4]\n",
    "    annotation_path = os.path.join(\n",
    "    os.path.split(os.path.dirname(image_path))[0], 'Annotations',\n",
    "    '{}.xml'.format(img_id)\n",
    "    )\n",
    "    return xml_to_dict(annotation_path)\n",
    "from utils.kitti import show_groundtruth, create_results_list\n",
    "from utils.kitti import visualize_predictions\n",
    "import glob"
   ]
  },
  {
   "cell_type": "markdown",
   "metadata": {},
   "source": [
    "# Model preparation "
   ]
  },
  {
   "cell_type": "markdown",
   "metadata": {},
   "source": [
    "## Variables\n",
    "\n",
    "Any model exported using the `export_inference_graph.py` tool can be loaded here simply by changing `PATH_TO_CKPT` to point to a new .pb file.  \n",
    "\n",
    "By default we use an \"SSD with Mobilenet\" model here. See the [detection model zoo](https://github.com/tensorflow/models/blob/master/object_detection/g3doc/detection_model_zoo.md) for a list of other models that can be run out-of-the-box with varying speeds and accuracies."
   ]
  },
  {
   "cell_type": "code",
   "execution_count": 54,
   "metadata": {},
   "outputs": [],
   "source": [
    "# What model to download.\n",
    "FREEZE_DIR = 'atrous_frozen_v2/'\n",
    "PATH_TO_CKPT = os.path.join(FREEZE_DIR,\n",
    "                            'frozen_inference_graph.pb'\n",
    "                           )\n",
    "# List of the strings that is used to add correct label for each box.\n",
    "PATH_TO_LABELS = os.path.join('data', 'kitti_map.pbtxt')\n",
    "\n",
    "NUM_CLASSES = 9"
   ]
  },
  {
   "cell_type": "markdown",
   "metadata": {},
   "source": [
    "## Load a (frozen) Tensorflow model into memory."
   ]
  },
  {
   "cell_type": "code",
   "execution_count": 55,
   "metadata": {},
   "outputs": [],
   "source": [
    "detection_graph = tf.Graph()\n",
    "with detection_graph.as_default():\n",
    "    od_graph_def = tf.GraphDef()\n",
    "    with tf.gfile.GFile(PATH_TO_CKPT, 'rb') as fid:\n",
    "        serialized_graph = fid.read()\n",
    "        od_graph_def.ParseFromString(serialized_graph)\n",
    "        tf.import_graph_def(od_graph_def, name='')"
   ]
  },
  {
   "cell_type": "markdown",
   "metadata": {},
   "source": [
    "\n",
    "## Loading label map\n",
    "Label maps map indices to category names, so that when our convolution network predicts `5`, we know that this corresponds to `airplane`.  Here we use internal utility functions, but anything that returns a dictionary mapping integers to appropriate string labels would be fine"
   ]
  },
  {
   "cell_type": "code",
   "execution_count": 56,
   "metadata": {
    "collapsed": true
   },
   "outputs": [],
   "source": [
    "PATH_TO_LABELS = os.path.join('data', 'kitti_map.pbtxt')\n",
    "label_map = label_map_util.load_labelmap(PATH_TO_LABELS)\n",
    "categories = label_map_util.convert_label_map_to_categories(label_map, \n",
    "                                                            max_num_classes=NUM_CLASSES, use_display_name=True)\n",
    "category_index = label_map_util.create_category_index(categories)"
   ]
  },
  {
   "cell_type": "markdown",
   "metadata": {},
   "source": [
    "## Helper code"
   ]
  },
  {
   "cell_type": "code",
   "execution_count": 58,
   "metadata": {
    "collapsed": true
   },
   "outputs": [],
   "source": [
    "def load_image_into_numpy_array(image):\n",
    "    (im_width, im_height) = image.size\n",
    "    return np.array(image.getdata()).reshape(\n",
    "      (im_height, im_width, 3)).astype(np.uint8)"
   ]
  },
  {
   "cell_type": "code",
   "execution_count": 59,
   "metadata": {
    "collapsed": true
   },
   "outputs": [],
   "source": [
    "with open('kitti_data/train.txt') as f:\n",
    "    train_ids = f.readlines()[0].split(',')\n",
    "with open('kitti_data/valid.txt') as f:\n",
    "    valid_ids = f.readlines()[0].split(',')"
   ]
  },
  {
   "cell_type": "code",
   "execution_count": 60,
   "metadata": {},
   "outputs": [
    {
     "data": {
      "text/plain": [
       "6732"
      ]
     },
     "execution_count": 60,
     "metadata": {},
     "output_type": "execute_result"
    }
   ],
   "source": [
    "len(train_ids)"
   ]
  },
  {
   "cell_type": "code",
   "execution_count": 61,
   "metadata": {},
   "outputs": [
    {
     "data": {
      "text/plain": [
       "749"
      ]
     },
     "execution_count": 61,
     "metadata": {},
     "output_type": "execute_result"
    }
   ],
   "source": [
    "len(valid_ids)"
   ]
  },
  {
   "cell_type": "markdown",
   "metadata": {},
   "source": [
    "# Detection"
   ]
  },
  {
   "cell_type": "code",
   "execution_count": 62,
   "metadata": {
    "collapsed": true
   },
   "outputs": [],
   "source": [
    "PATH_TO_TEST_IMAGES_DIR = 'voc_kitti_valid/VOC2012/JPEGImages/'\n",
    "p = 'voc_kitti_valid/VOC2012/JPEGImages/1023.jpg'\n",
    "TEST_IMAGE_PATHS = [ p]\n",
    "FIGSIZE = (20, 20)"
   ]
  },
  {
   "cell_type": "code",
   "execution_count": 63,
   "metadata": {
    "collapsed": true
   },
   "outputs": [],
   "source": [
    "import glob\n",
    "def glob_base(pat): return list(map(os.path.basename, glob.glob(pat)))"
   ]
  },
  {
   "cell_type": "code",
   "execution_count": 65,
   "metadata": {
    "collapsed": true
   },
   "outputs": [],
   "source": [
    "from create_dataset import *"
   ]
  },
  {
   "cell_type": "markdown",
   "metadata": {},
   "source": [
    "### Check that valid files dont overlap with train files"
   ]
  },
  {
   "cell_type": "code",
   "execution_count": 67,
   "metadata": {},
   "outputs": [],
   "source": [
    "valid_ids = glob_base(VOC_VALID_DIR + '/VOC2012/JPEGImages/*.jpg')\n",
    "train_ids = glob_base(VOC_TRAIN_DIR+ '/VOC2012/JPEGImages/*.jpg')\n",
    "\n",
    "assert len(pd.Index(valid_ids).intersection(train_ids)) == 0"
   ]
  },
  {
   "cell_type": "code",
   "execution_count": 68,
   "metadata": {
    "collapsed": true
   },
   "outputs": [],
   "source": [
    "test_dir = 'voc_kitti_valid/VOC2012/JPEGImages/'\n",
    "test_image_paths = [os.path.join(test_dir, x) for x in valid_ids]"
   ]
  },
  {
   "cell_type": "code",
   "execution_count": 69,
   "metadata": {},
   "outputs": [
    {
     "data": {
      "text/plain": [
       "749"
      ]
     },
     "execution_count": 69,
     "metadata": {},
     "output_type": "execute_result"
    }
   ],
   "source": [
    "len(test_image_paths)"
   ]
  },
  {
   "cell_type": "code",
   "execution_count": 70,
   "metadata": {
    "collapsed": true
   },
   "outputs": [],
   "source": [
    "train_labs= glob.glob('kitti_data/training/label_2/*.txt')\n",
    "test_labs = glob.glob('kitti_data/valid/label_2/*.txt')"
   ]
  },
  {
   "cell_type": "markdown",
   "metadata": {},
   "source": [
    "### Calculate MaP by category (8 mins roughly)"
   ]
  },
  {
   "cell_type": "code",
   "execution_count": 73,
   "metadata": {},
   "outputs": [
    {
     "name": "stdout",
     "output_type": "stream",
     "text": [
      "CPU times: user 5min 29s, sys: 0 ns, total: 5min 29s\n",
      "Wall time: 8min 14s\n"
     ]
    }
   ],
   "source": [
    "%%time\n",
    "with detection_graph.as_default():\n",
    "    with tf.Session(graph=detection_graph) as sess:\n",
    "        res = create_results_list(test_image_paths, sess, detection_graph)"
   ]
  },
  {
   "cell_type": "code",
   "execution_count": 74,
   "metadata": {},
   "outputs": [
    {
     "name": "stderr",
     "output_type": "stream",
     "text": [
      "WARNING:root:The following classes have no ground truth examples: 0\n",
      "../object_detection/utils/metrics.py:145: RuntimeWarning: invalid value encountered in true_divide\n",
      "  num_images_correctly_detected_per_class / num_gt_imgs_per_class)\n"
     ]
    }
   ],
   "source": [
    "import pandas as pd\n",
    "perf = pd.Series(evaluate_detection_results_pascal_voc(res, categories))"
   ]
  },
  {
   "cell_type": "code",
   "execution_count": 75,
   "metadata": {},
   "outputs": [
    {
     "data": {
      "text/plain": [
       "PerformanceByCategory/mAP@0.5IOU/car               0.967502\n",
       "PerformanceByCategory/mAP@0.5IOU/cyclist           0.887509\n",
       "PerformanceByCategory/mAP@0.5IOU/dontcare          0.444671\n",
       "PerformanceByCategory/mAP@0.5IOU/misc              0.867442\n",
       "PerformanceByCategory/mAP@0.5IOU/pedestrian        0.821766\n",
       "PerformanceByCategory/mAP@0.5IOU/person_sitting    0.776042\n",
       "PerformanceByCategory/mAP@0.5IOU/tram              0.980379\n",
       "PerformanceByCategory/mAP@0.5IOU/truck             0.956242\n",
       "PerformanceByCategory/mAP@0.5IOU/van               0.964281\n",
       "Precision/mAP@0.5IOU                               0.851759\n",
       "dtype: float64"
      ]
     },
     "execution_count": 75,
     "metadata": {},
     "output_type": "execute_result"
    }
   ],
   "source": [
    "perf"
   ]
  },
  {
   "cell_type": "markdown",
   "metadata": {},
   "source": [
    "### Make nice performance table"
   ]
  },
  {
   "cell_type": "code",
   "execution_count": 76,
   "metadata": {
    "collapsed": true
   },
   "outputs": [],
   "source": [
    "def clean_idx(perf):\n",
    "    x = list(perf.index.map(lambda x: x[33:]))\n",
    "    x[-1] = 'Total'\n",
    "    perf.index = x\n",
    "    return perf"
   ]
  },
  {
   "cell_type": "code",
   "execution_count": 84,
   "metadata": {},
   "outputs": [],
   "source": [
    "perf = clean_idx(perf)"
   ]
  },
  {
   "cell_type": "code",
   "execution_count": 85,
   "metadata": {},
   "outputs": [
    {
     "data": {
      "text/html": [
       "<div>\n",
       "<style>\n",
       "    .dataframe thead tr:only-child th {\n",
       "        text-align: right;\n",
       "    }\n",
       "\n",
       "    .dataframe thead th {\n",
       "        text-align: left;\n",
       "    }\n",
       "\n",
       "    .dataframe tbody tr th {\n",
       "        vertical-align: top;\n",
       "    }\n",
       "</style>\n",
       "<table border=\"1\" class=\"dataframe\">\n",
       "  <thead>\n",
       "    <tr style=\"text-align: right;\">\n",
       "      <th></th>\n",
       "      <th>rcnn_mAP</th>\n",
       "    </tr>\n",
       "  </thead>\n",
       "  <tbody>\n",
       "    <tr>\n",
       "      <th>car</th>\n",
       "      <td>0.967502</td>\n",
       "    </tr>\n",
       "    <tr>\n",
       "      <th>cyclist</th>\n",
       "      <td>0.887509</td>\n",
       "    </tr>\n",
       "    <tr>\n",
       "      <th>dontcare</th>\n",
       "      <td>0.444671</td>\n",
       "    </tr>\n",
       "    <tr>\n",
       "      <th>misc</th>\n",
       "      <td>0.867442</td>\n",
       "    </tr>\n",
       "    <tr>\n",
       "      <th>pedestrian</th>\n",
       "      <td>0.821766</td>\n",
       "    </tr>\n",
       "    <tr>\n",
       "      <th>person_sitting</th>\n",
       "      <td>0.776042</td>\n",
       "    </tr>\n",
       "    <tr>\n",
       "      <th>tram</th>\n",
       "      <td>0.980379</td>\n",
       "    </tr>\n",
       "    <tr>\n",
       "      <th>truck</th>\n",
       "      <td>0.956242</td>\n",
       "    </tr>\n",
       "    <tr>\n",
       "      <th>van</th>\n",
       "      <td>0.964281</td>\n",
       "    </tr>\n",
       "    <tr>\n",
       "      <th>Total</th>\n",
       "      <td>0.851759</td>\n",
       "    </tr>\n",
       "  </tbody>\n",
       "</table>\n",
       "</div>"
      ],
      "text/plain": [
       "                rcnn_mAP\n",
       "car             0.967502\n",
       "cyclist         0.887509\n",
       "dontcare        0.444671\n",
       "misc            0.867442\n",
       "pedestrian      0.821766\n",
       "person_sitting  0.776042\n",
       "tram            0.980379\n",
       "truck           0.956242\n",
       "van             0.964281\n",
       "Total           0.851759"
      ]
     },
     "execution_count": 85,
     "metadata": {},
     "output_type": "execute_result"
    }
   ],
   "source": [
    "perf.to_frame('rcnn_mAP')#.round(3).to_csv('~/Desktop/faster_rcnn_mAP_by_category.csv')"
   ]
  },
  {
   "cell_type": "code",
   "execution_count": 77,
   "metadata": {
    "collapsed": true
   },
   "outputs": [],
   "source": [
    "def get_dict_slice(res, slc_obj):\n",
    "    '''get a slice of the values for each key in a dict'''\n",
    "    output = {}\n",
    "    for k in res.keys():\n",
    "        output[k] = res[k][slc_obj]\n",
    "    return output\n",
    "        \n",
    "        "
   ]
  },
  {
   "cell_type": "markdown",
   "metadata": {},
   "source": [
    "### Calculate MaP for each image"
   ]
  },
  {
   "cell_type": "code",
   "execution_count": 78,
   "metadata": {},
   "outputs": [
    {
     "name": "stderr",
     "output_type": "stream",
     "text": [
      "WARNING:root:The following classes have no ground truth examples: [0 2 3 4 5 6 7 8]\n",
      "WARNING:root:The following classes have no ground truth examples: [0 2 3 4 5 6 7 8]\n",
      "WARNING:root:The following classes have no ground truth examples: [0 2 3 4 5 6 7 8]\n",
      "WARNING:root:The following classes have no ground truth examples: [0 2 3 4 5 6 7 8 9]\n",
      "WARNING:root:The following classes have no ground truth examples: [0 2 3 4 5 6 7 8 9]\n",
      "WARNING:root:The following classes have no ground truth examples: [0 2 3 4 5 6 7 8]\n",
      "WARNING:root:The following classes have no ground truth examples: [0 2 3 4 5 6 7 8]\n",
      "WARNING:root:The following classes have no ground truth examples: [0 2 3 4 5 7 8]\n",
      "WARNING:root:The following classes have no ground truth examples: [0 1 2 3 5 6 7 8 9]\n",
      "WARNING:root:The following classes have no ground truth examples: [0 1 2 3 5 6 7 8 9]\n",
      "WARNING:root:The following classes have no ground truth examples: [0 3 4 5 6 7]\n",
      "WARNING:root:The following classes have no ground truth examples: [0 3 4 5 6 7 8]\n",
      "WARNING:root:The following classes have no ground truth examples: [0 1 2 3 5 6 7 8 9]\n",
      "WARNING:root:The following classes have no ground truth examples: [0 2 3 4 5 6 7 8]\n",
      "WARNING:root:The following classes have no ground truth examples: [0 3 4 5 6 7 8]\n",
      "WARNING:root:The following classes have no ground truth examples: [0 2 4 5 6 7 8 9]\n",
      "WARNING:root:The following classes have no ground truth examples: [0 2 4 5 6 7 8]\n",
      "WARNING:root:The following classes have no ground truth examples: [0 2 3 5 6 7 8]\n",
      "WARNING:root:The following classes have no ground truth examples: [0 2 3 4 5 6 7 8]\n",
      "WARNING:root:The following classes have no ground truth examples: [0 1 2 3 5 6 7 8 9]\n",
      "WARNING:root:The following classes have no ground truth examples: [0 2 4 5 6 7 8]\n",
      "WARNING:root:The following classes have no ground truth examples: [0 2 3 4 5 6 7 8]\n",
      "WARNING:root:The following classes have no ground truth examples: [0 3 4 5 6 7 8]\n",
      "WARNING:root:The following classes have no ground truth examples: [0 1 2 3 5 7 8]\n",
      "WARNING:root:The following classes have no ground truth examples: [0 2 3 4 5 6 7 8]\n",
      "WARNING:root:The following classes have no ground truth examples: [0 2 3 4 5 6 7 8 9]\n",
      "WARNING:root:The following classes have no ground truth examples: [0 3 4 5 6 7 8 9]\n",
      "WARNING:root:The following classes have no ground truth examples: [0 1 2 3 5 6 7 8 9]\n",
      "WARNING:root:The following classes have no ground truth examples: [0 3 5 7 8]\n",
      "WARNING:root:The following classes have no ground truth examples: [0 3 4 5 6 7 8]\n",
      "WARNING:root:The following classes have no ground truth examples: [0 3 4 5 6 7 8]\n",
      "WARNING:root:The following classes have no ground truth examples: [0 2 3 4 5 6 7 8]\n",
      "WARNING:root:The following classes have no ground truth examples: [0 3 4 5 6 7 8]\n",
      "WARNING:root:The following classes have no ground truth examples: [0 3 4 5 6 7 8]\n",
      "WARNING:root:The following classes have no ground truth examples: [0 3 4 5 6 7 8]\n",
      "WARNING:root:The following classes have no ground truth examples: [0 2 3 4 5 6 7 8]\n",
      "WARNING:root:The following classes have no ground truth examples: [0 2 3 4 5 6 7 8]\n",
      "WARNING:root:The following classes have no ground truth examples: [0 1 3 5 7 8]\n",
      "WARNING:root:The following classes have no ground truth examples: [0 2 3 4 5 6 7 8]\n",
      "WARNING:root:The following classes have no ground truth examples: [0 3 4 5 7 8]\n",
      "WARNING:root:The following classes have no ground truth examples: [0 2 3 4 5 6 7 8]\n",
      "WARNING:root:The following classes have no ground truth examples: [0 2 3 5 7 8]\n",
      "WARNING:root:The following classes have no ground truth examples: [0 2 3 4 5 6 7 8]\n",
      "WARNING:root:The following classes have no ground truth examples: [0 2 3 4 5 6 7 8]\n",
      "WARNING:root:The following classes have no ground truth examples: [0 2 3 4 5 6 7 8]\n",
      "WARNING:root:The following classes have no ground truth examples: [0 2 3 5 6 7 8 9]\n",
      "WARNING:root:The following classes have no ground truth examples: [0 3 4 5 6 7]\n",
      "WARNING:root:The following classes have no ground truth examples: [0 2 3 4 5 6 7 8 9]\n",
      "WARNING:root:The following classes have no ground truth examples: [0 2 5 6 7 8 9]\n",
      "WARNING:root:The following classes have no ground truth examples: [0 3 4 5 6 7 8]\n",
      "WARNING:root:The following classes have no ground truth examples: [0 2 4 5 6 7]\n",
      "WARNING:root:The following classes have no ground truth examples: [0 3 4 5 6 7]\n",
      "WARNING:root:The following classes have no ground truth examples: [0 1 3 5 6 7 8 9]\n",
      "WARNING:root:The following classes have no ground truth examples: [0 2 3 4 5 7 8]\n",
      "WARNING:root:The following classes have no ground truth examples: [0 3 6 7 8]\n",
      "WARNING:root:The following classes have no ground truth examples: [0 1 2 3 5 7 8]\n",
      "WARNING:root:The following classes have no ground truth examples: [0 3 4 5 6 7 8]\n",
      "WARNING:root:The following classes have no ground truth examples: [0 3 4 5 6 7 9]\n",
      "WARNING:root:The following classes have no ground truth examples: [0 3 5 7 8]\n",
      "WARNING:root:The following classes have no ground truth examples: [0 2 3 4 5 6 7 8]\n",
      "WARNING:root:The following classes have no ground truth examples: [0 3 4 5 6 7 9]\n",
      "WARNING:root:The following classes have no ground truth examples: [0 2 3 4 5 6 7 8]\n",
      "WARNING:root:The following classes have no ground truth examples: [0 2 3 4 5 6 7 8]\n",
      "WARNING:root:The following classes have no ground truth examples: [0 2 3 4 5 7 8]\n",
      "WARNING:root:The following classes have no ground truth examples: [0 2 4 5 6 7 8]\n",
      "WARNING:root:The following classes have no ground truth examples: [0 1 3 7 8]\n",
      "WARNING:root:The following classes have no ground truth examples: [0 2 4 5 6 7]\n",
      "WARNING:root:The following classes have no ground truth examples: [0 2 3 4 5 6 7 8]\n",
      "WARNING:root:The following classes have no ground truth examples: [0 3 4 5 6 7 8 9]\n",
      "WARNING:root:The following classes have no ground truth examples: [0 2 3 4 5 6 7 8]\n",
      "WARNING:root:The following classes have no ground truth examples: [0 3 5 6 7 8]\n",
      "WARNING:root:The following classes have no ground truth examples: [0 1 3 6 7 8]\n",
      "WARNING:root:The following classes have no ground truth examples: [0 1 2 3 5 6 7 8 9]\n",
      "WARNING:root:The following classes have no ground truth examples: [0 2 3 4 5 6 7 8]\n",
      "WARNING:root:The following classes have no ground truth examples: [0 2 3 4 5 6 7 8]\n",
      "WARNING:root:The following classes have no ground truth examples: [0 2 3 4 5 6 7 9]\n",
      "WARNING:root:The following classes have no ground truth examples: [0 1 3 5 7 8 9]\n",
      "WARNING:root:The following classes have no ground truth examples: [0 2 4 5 6 7 8]\n",
      "WARNING:root:The following classes have no ground truth examples: [0 2 3 4 5 6 7 8 9]\n",
      "WARNING:root:The following classes have no ground truth examples: [0 2 3 4 5 6 7 8]\n",
      "WARNING:root:The following classes have no ground truth examples: [0 2 3 4 5 6 7 8]\n",
      "WARNING:root:The following classes have no ground truth examples: [0 2 3 4 5 6 7 8]\n",
      "WARNING:root:The following classes have no ground truth examples: [0 2 3 4 5 6 7 8]\n",
      "WARNING:root:The following classes have no ground truth examples: [0 3 5 6 7 8]\n",
      "WARNING:root:The following classes have no ground truth examples: [0 2 3 4 5 8]\n",
      "WARNING:root:The following classes have no ground truth examples: [0 2 3 4 5 6 7 8]\n",
      "WARNING:root:The following classes have no ground truth examples: [0 2 3 4 5 6 7 8]\n",
      "WARNING:root:The following classes have no ground truth examples: [0 1 2 3 5 6 7 8 9]\n",
      "WARNING:root:The following classes have no ground truth examples: [0 3 4 5 6 7 8 9]\n",
      "WARNING:root:The following classes have no ground truth examples: [0 2 3 4 5 6 7 8]\n",
      "WARNING:root:The following classes have no ground truth examples: [0 2 3 4 5 6 7 8 9]\n",
      "WARNING:root:The following classes have no ground truth examples: [0 3 4 5 6 7]\n",
      "WARNING:root:The following classes have no ground truth examples: [0 2 3 4 5 6 7 8 9]\n",
      "WARNING:root:The following classes have no ground truth examples: [0 2 3 4 5 7 8]\n",
      "WARNING:root:The following classes have no ground truth examples: [0 3 5 6 7 8]\n",
      "WARNING:root:The following classes have no ground truth examples: [0 2 3 4 5 6 7 8]\n",
      "WARNING:root:The following classes have no ground truth examples: [0 3 4 5 6 7 8]\n",
      "WARNING:root:The following classes have no ground truth examples: [0 2 3 7 8]\n",
      "WARNING:root:The following classes have no ground truth examples: [0 4 5 6 7 8 9]\n"
     ]
    },
    {
     "name": "stderr",
     "output_type": "stream",
     "text": [
      "WARNING:root:The following classes have no ground truth examples: [0 2 3 4 5 6 7 8]\n",
      "WARNING:root:The following classes have no ground truth examples: [0 2 3 4 5 6 7 8]\n",
      "WARNING:root:The following classes have no ground truth examples: [0 2 3 4 5 6 8]\n",
      "WARNING:root:The following classes have no ground truth examples: [0 2 3 5 6 7 8]\n",
      "WARNING:root:The following classes have no ground truth examples: [0 2 3 4 5 6 7 8]\n",
      "WARNING:root:The following classes have no ground truth examples: [0 2 3 4 5 6 7]\n",
      "WARNING:root:The following classes have no ground truth examples: [0 2 3 4 5 6 7 8 9]\n",
      "WARNING:root:The following classes have no ground truth examples: [0 2 3 4 5 6 7 8]\n",
      "WARNING:root:The following classes have no ground truth examples: [0 2 4 5 6 7 8]\n",
      "WARNING:root:The following classes have no ground truth examples: [0 2 3 4 5 6 7 8]\n",
      "WARNING:root:The following classes have no ground truth examples: [0 1 2 3 5 6 7 8 9]\n",
      "WARNING:root:The following classes have no ground truth examples: [0 3 5 6 7 8]\n",
      "WARNING:root:The following classes have no ground truth examples: [0 2 3 5 6 7 8]\n",
      "WARNING:root:The following classes have no ground truth examples: [0 2 3 4 5 6 7 8 9]\n",
      "WARNING:root:The following classes have no ground truth examples: [0 3 4 5 6 7 8 9]\n",
      "WARNING:root:The following classes have no ground truth examples: [0 2 3 4 5 6 7 8]\n",
      "WARNING:root:The following classes have no ground truth examples: [0 2 3 4 5 7 8]\n",
      "WARNING:root:The following classes have no ground truth examples: [0 2 3 4 5 6 7 8]\n",
      "WARNING:root:The following classes have no ground truth examples: [0 2 3 4 5 6 7 8 9]\n",
      "WARNING:root:The following classes have no ground truth examples: [0 2 3 5 6 7]\n",
      "WARNING:root:The following classes have no ground truth examples: [0 2 3 4 5 6 7 8]\n",
      "WARNING:root:The following classes have no ground truth examples: [0 3 5 7 8]\n",
      "WARNING:root:The following classes have no ground truth examples: [0 2 3 4 5 6 7 8]\n",
      "WARNING:root:The following classes have no ground truth examples: [0 3 4 5 6 7 9]\n",
      "WARNING:root:The following classes have no ground truth examples: [0 2 3 4 5 6 7 8 9]\n",
      "WARNING:root:The following classes have no ground truth examples: [0 2 3 5 7 8]\n",
      "WARNING:root:The following classes have no ground truth examples: [0 1 2 3 5 6 7 8 9]\n",
      "WARNING:root:The following classes have no ground truth examples: [0 2 3 4 5 6 7 8]\n",
      "WARNING:root:The following classes have no ground truth examples: [0 2 3 4 5 6 7]\n",
      "WARNING:root:The following classes have no ground truth examples: [0 2 3 4 5 6 7 8]\n",
      "WARNING:root:The following classes have no ground truth examples: [0 2 3 4 5 6 7 8]\n",
      "WARNING:root:The following classes have no ground truth examples: [0 3 4 5 7 8]\n",
      "WARNING:root:The following classes have no ground truth examples: [0 3 4 5 6 7 8]\n",
      "WARNING:root:The following classes have no ground truth examples: [0 2 3 4 5 7 8]\n",
      "WARNING:root:The following classes have no ground truth examples: [0 1 3 5 6 7 8 9]\n",
      "WARNING:root:The following classes have no ground truth examples: [0 2 3 4 5 6 7 8 9]\n",
      "WARNING:root:The following classes have no ground truth examples: [0 2 4 5 6 8]\n",
      "WARNING:root:The following classes have no ground truth examples: [0 2 3 4 5 6 7 8 9]\n",
      "WARNING:root:The following classes have no ground truth examples: [0 2 5 6 7 8]\n",
      "WARNING:root:The following classes have no ground truth examples: [0 1 2 3 5 6 7 8]\n",
      "WARNING:root:The following classes have no ground truth examples: [0 2 4 5 6 7]\n",
      "WARNING:root:The following classes have no ground truth examples: [0 2 3 4 5 6 7 8]\n",
      "WARNING:root:The following classes have no ground truth examples: [0 2 4 5 6 7 8 9]\n",
      "WARNING:root:The following classes have no ground truth examples: [0 1 2 3 5 6 7 8 9]\n",
      "WARNING:root:The following classes have no ground truth examples: [0 2 3 5 6 7 8]\n",
      "WARNING:root:The following classes have no ground truth examples: [0 2 3 4 5 7 8]\n",
      "WARNING:root:The following classes have no ground truth examples: [0 3 5 6 7 8 9]\n",
      "WARNING:root:The following classes have no ground truth examples: [0 2 3 4 5 6 7 8]\n",
      "WARNING:root:The following classes have no ground truth examples: [0 2 3 4 5 6 7 8]\n",
      "WARNING:root:The following classes have no ground truth examples: [0 3 4 5 6 7 8 9]\n",
      "WARNING:root:The following classes have no ground truth examples: [0 1 3 5 6 7 8]\n",
      "WARNING:root:The following classes have no ground truth examples: [0 1 2 3 5 6 7 8 9]\n",
      "WARNING:root:The following classes have no ground truth examples: [0 1 3 5 6 7 8]\n",
      "WARNING:root:The following classes have no ground truth examples: [0 2 3 5 7 8]\n",
      "WARNING:root:The following classes have no ground truth examples: [0 3 4 5 6 7 8]\n",
      "WARNING:root:The following classes have no ground truth examples: [0 3 4 5 6 7 9]\n",
      "WARNING:root:The following classes have no ground truth examples: [0 3 4 5 6 7]\n",
      "WARNING:root:The following classes have no ground truth examples: [0 4 5 6 7]\n",
      "WARNING:root:The following classes have no ground truth examples: [0 2 3 4 5 6 7]\n",
      "WARNING:root:The following classes have no ground truth examples: [0 2 3 4 5 6 7 8 9]\n",
      "WARNING:root:The following classes have no ground truth examples: [0 2 4 5 6 7 8]\n",
      "WARNING:root:The following classes have no ground truth examples: [0 2 3 4 5 6 7]\n",
      "WARNING:root:The following classes have no ground truth examples: [0 3 4 5 6 7 8]\n",
      "WARNING:root:The following classes have no ground truth examples: [0 2 3 4 5 6 7 8]\n",
      "WARNING:root:The following classes have no ground truth examples: [0 2 4 5 6 7 8]\n",
      "WARNING:root:The following classes have no ground truth examples: [0 4 5 6 7 9]\n",
      "WARNING:root:The following classes have no ground truth examples: [0 4 5 6 7 8]\n",
      "WARNING:root:The following classes have no ground truth examples: [0 3 5 6 7 8]\n",
      "WARNING:root:The following classes have no ground truth examples: [0 3 4 5 6 7 8]\n",
      "WARNING:root:The following classes have no ground truth examples: [0 1 2 3 5 6 7 8]\n",
      "WARNING:root:The following classes have no ground truth examples: [0 2 3 4 5 6 7 8 9]\n",
      "WARNING:root:The following classes have no ground truth examples: [0 2 3 4 5 7 8 9]\n",
      "WARNING:root:The following classes have no ground truth examples: [0 2 3 4 5 6 7 8]\n",
      "WARNING:root:The following classes have no ground truth examples: [0 2 3 4 5 6 7 8]\n",
      "WARNING:root:The following classes have no ground truth examples: [0 2 3 4 5 6 7 8 9]\n",
      "WARNING:root:The following classes have no ground truth examples: [0 4 5 6 7 8]\n",
      "WARNING:root:The following classes have no ground truth examples: [0 3 4 5 6 7 8]\n",
      "WARNING:root:The following classes have no ground truth examples: [0 2 3 4 5 6 7 8 9]\n",
      "WARNING:root:The following classes have no ground truth examples: [0 2 5 6 7 8]\n",
      "WARNING:root:The following classes have no ground truth examples: [0 2 3 4 5 6 7 8 9]\n",
      "WARNING:root:The following classes have no ground truth examples: [0 2 3 4 5 6 7 8]\n",
      "WARNING:root:The following classes have no ground truth examples: [0 2 4 5 6 7 8]\n",
      "WARNING:root:The following classes have no ground truth examples: [0 3 4 5 6 7 8 9]\n",
      "WARNING:root:The following classes have no ground truth examples: [0 2 3 4 5 6 8]\n",
      "WARNING:root:The following classes have no ground truth examples: [0 2 3 4 5 6 7 8]\n",
      "WARNING:root:The following classes have no ground truth examples: [0 2 3 4 5 6 7 8]\n",
      "WARNING:root:The following classes have no ground truth examples: [0 1 2 3 5 7 8]\n",
      "WARNING:root:The following classes have no ground truth examples: [0 2 3 4 5 6 7 8]\n",
      "WARNING:root:The following classes have no ground truth examples: [0 3 4 5 6 7 8]\n",
      "WARNING:root:The following classes have no ground truth examples: [0 2 3 4 5 6 7 8]\n",
      "WARNING:root:The following classes have no ground truth examples: [0 3 5 6 7 8]\n",
      "WARNING:root:The following classes have no ground truth examples: [0 1 2 3 5 6 7 8 9]\n",
      "WARNING:root:The following classes have no ground truth examples: [0 3 4 5 7 8]\n",
      "WARNING:root:The following classes have no ground truth examples: [0 2 3 5 6 7 8 9]\n",
      "WARNING:root:The following classes have no ground truth examples: [0 3 4 5 6 7 8]\n",
      "WARNING:root:The following classes have no ground truth examples: [0 2 3 5 7 8]\n",
      "WARNING:root:The following classes have no ground truth examples: [0 2 3 4 5 6 7 8 9]\n",
      "WARNING:root:The following classes have no ground truth examples: [0 2 5 6 7 8]\n",
      "WARNING:root:The following classes have no ground truth examples: [0 1 2 3 5 6 7 8 9]\n"
     ]
    },
    {
     "name": "stderr",
     "output_type": "stream",
     "text": [
      "WARNING:root:The following classes have no ground truth examples: [0 1 2 3 5 6 7 8]\n",
      "WARNING:root:The following classes have no ground truth examples: [0 2 3 4 5 6 7 8]\n",
      "WARNING:root:The following classes have no ground truth examples: [0 2 3 4 5 6 7 8 9]\n",
      "WARNING:root:The following classes have no ground truth examples: [0 3 4 5 6 7 8]\n",
      "WARNING:root:The following classes have no ground truth examples: [0 3 5 7 8]\n",
      "WARNING:root:The following classes have no ground truth examples: [0 3 4 5 6 7 8 9]\n",
      "WARNING:root:The following classes have no ground truth examples: [0 2 3 4 5 6 7 8]\n",
      "WARNING:root:The following classes have no ground truth examples: [0 2 3 4 5 6 7 8 9]\n",
      "WARNING:root:The following classes have no ground truth examples: [0 2 3 4 5 6 7 8]\n",
      "WARNING:root:The following classes have no ground truth examples: [0 2 3 4 5 6 7 8]\n",
      "WARNING:root:The following classes have no ground truth examples: [0 2 3 4 5 6 7 8]\n",
      "WARNING:root:The following classes have no ground truth examples: [0 4 5 6 7]\n",
      "WARNING:root:The following classes have no ground truth examples: [0 2 3 4 5 6 7 8]\n",
      "WARNING:root:The following classes have no ground truth examples: [0 2 3 4 5 6 7 8 9]\n",
      "WARNING:root:The following classes have no ground truth examples: [0 2 3 4 5 6 7 8]\n",
      "WARNING:root:The following classes have no ground truth examples: [0 2 3 4 5 6 7 8]\n",
      "WARNING:root:The following classes have no ground truth examples: [0 3 4 5 6 7 9]\n",
      "WARNING:root:The following classes have no ground truth examples: [0 3 4 5 6 7 8]\n",
      "WARNING:root:The following classes have no ground truth examples: [0 2 3 4 5 6 7 8]\n",
      "WARNING:root:The following classes have no ground truth examples: [0 2 3 4 5 6 7 8]\n",
      "WARNING:root:The following classes have no ground truth examples: [0 2 3 5 6 7 8]\n",
      "WARNING:root:The following classes have no ground truth examples: [0 2 4 5 6 7 8]\n",
      "WARNING:root:The following classes have no ground truth examples: [0 1 3 5 6 7 8]\n",
      "WARNING:root:The following classes have no ground truth examples: [0 2 3 4 5 6 7 8 9]\n",
      "WARNING:root:The following classes have no ground truth examples: [0 2 3 5 7 8]\n",
      "WARNING:root:The following classes have no ground truth examples: [0 4 5 6 7 8]\n",
      "WARNING:root:The following classes have no ground truth examples: [0 3 4 5 6 7 8]\n",
      "WARNING:root:The following classes have no ground truth examples: [0 2 4 5 6 7 8 9]\n",
      "WARNING:root:The following classes have no ground truth examples: [0 2 3 5 6 8]\n",
      "WARNING:root:The following classes have no ground truth examples: [0 2 3 4 5 6 7 8 9]\n",
      "WARNING:root:The following classes have no ground truth examples: [0 3 4 5 6 7 8]\n",
      "WARNING:root:The following classes have no ground truth examples: [0 2 3 4 5 6 7 8]\n",
      "WARNING:root:The following classes have no ground truth examples: [0 2 5 6 7 8]\n",
      "WARNING:root:The following classes have no ground truth examples: [0 2 3 4 5 8 9]\n",
      "WARNING:root:The following classes have no ground truth examples: [0 2 3 5 6 7 8]\n",
      "WARNING:root:The following classes have no ground truth examples: [0 2 3 4 5 7 8]\n",
      "WARNING:root:The following classes have no ground truth examples: [0 2 3 4 5 7 8 9]\n",
      "WARNING:root:The following classes have no ground truth examples: [0 2 3 4 5 6 7 8]\n",
      "WARNING:root:The following classes have no ground truth examples: [0 2 3 4 5 6 7 8]\n",
      "WARNING:root:The following classes have no ground truth examples: [0 3 4 5 7 8]\n",
      "WARNING:root:The following classes have no ground truth examples: [0 3 5 7 8]\n",
      "WARNING:root:The following classes have no ground truth examples: [0 5 6 7 8 9]\n",
      "WARNING:root:The following classes have no ground truth examples: [0 2 3 4 5 6 7 8 9]\n",
      "WARNING:root:The following classes have no ground truth examples: [0 1 2 3 5 6 7 8 9]\n",
      "WARNING:root:The following classes have no ground truth examples: [0 2 3 5 6 8 9]\n",
      "WARNING:root:The following classes have no ground truth examples: [0 2 3 4 5 6 7 8 9]\n",
      "WARNING:root:The following classes have no ground truth examples: [0 2 3 4 5 6 7 8]\n",
      "WARNING:root:The following classes have no ground truth examples: [0 2 3 4 5 6 7 8]\n",
      "WARNING:root:The following classes have no ground truth examples: [0 2 3 4 5 6 7 8]\n",
      "WARNING:root:The following classes have no ground truth examples: [0 2 3 5 6 7 8 9]\n",
      "WARNING:root:The following classes have no ground truth examples: [0 1 3 5 6 7 8]\n",
      "WARNING:root:The following classes have no ground truth examples: [0 3 4 5 7 8]\n",
      "WARNING:root:The following classes have no ground truth examples: [0 2 3 5 7 8]\n",
      "WARNING:root:The following classes have no ground truth examples: [0 2 4 5 6 7 8]\n",
      "WARNING:root:The following classes have no ground truth examples: [0 2 3 4 5 6 7 8]\n",
      "WARNING:root:The following classes have no ground truth examples: [0 2 3 4 5 6 7 8]\n",
      "WARNING:root:The following classes have no ground truth examples: [0 2 3 4 5 8]\n",
      "WARNING:root:The following classes have no ground truth examples: [0 3 4 5 6 7 8 9]\n",
      "WARNING:root:The following classes have no ground truth examples: [0 2 3 5 7 8]\n",
      "WARNING:root:The following classes have no ground truth examples: [0 2 3 5 6 7 8]\n",
      "WARNING:root:The following classes have no ground truth examples: [0 2 3 4 5 6 7 8]\n",
      "WARNING:root:The following classes have no ground truth examples: [0 2 3 4 5 6 7 8]\n",
      "WARNING:root:The following classes have no ground truth examples: [0 2 3 4 5 6 7 8]\n",
      "WARNING:root:The following classes have no ground truth examples: [0 2 4 5 6 7 8]\n",
      "WARNING:root:The following classes have no ground truth examples: [0 2 3 4 5 6 7]\n",
      "WARNING:root:The following classes have no ground truth examples: [0 2 4 5 6 7 8]\n",
      "WARNING:root:The following classes have no ground truth examples: [0 2 3 4 5 6 7 8 9]\n",
      "WARNING:root:The following classes have no ground truth examples: [0 2 3 4 5 6 7 8]\n",
      "WARNING:root:The following classes have no ground truth examples: [0 2 3 4 5 6 7 8 9]\n",
      "WARNING:root:The following classes have no ground truth examples: [0 2 5 6 7 8]\n",
      "WARNING:root:The following classes have no ground truth examples: [0 2 3 4 5 6 7 8]\n",
      "WARNING:root:The following classes have no ground truth examples: [0 2 5 6 7 8]\n",
      "WARNING:root:The following classes have no ground truth examples: [0 3 4 5 6 7 8]\n",
      "WARNING:root:The following classes have no ground truth examples: [0 2 3 4 5 6 7 8 9]\n",
      "WARNING:root:The following classes have no ground truth examples: [0 2 3 4 5 6 7]\n",
      "WARNING:root:The following classes have no ground truth examples: [0 2 3 4 5 7 8]\n",
      "WARNING:root:The following classes have no ground truth examples: [0 2 4 5 7 8]\n",
      "WARNING:root:The following classes have no ground truth examples: [0 1 2 3 5 6 7]\n",
      "WARNING:root:The following classes have no ground truth examples: [0 2 3 4 5 6 7 8 9]\n",
      "WARNING:root:The following classes have no ground truth examples: [0 2 3 4 5 6 7 8 9]\n",
      "WARNING:root:The following classes have no ground truth examples: [0 2 3 4 5 6 7 8]\n",
      "WARNING:root:The following classes have no ground truth examples: [0 2 3 4 5 6 8 9]\n",
      "WARNING:root:The following classes have no ground truth examples: [0 1 2 3 5 6 7 8]\n",
      "WARNING:root:The following classes have no ground truth examples: [0 3 4 5 6 7 8]\n",
      "WARNING:root:The following classes have no ground truth examples: [0 2 3 4 5 6 7 8]\n",
      "WARNING:root:The following classes have no ground truth examples: [0 2 3 4 5 6 7 8 9]\n",
      "WARNING:root:The following classes have no ground truth examples: [0 2 3 4 5 6 7 8 9]\n",
      "WARNING:root:The following classes have no ground truth examples: [0 1 2 3 5 6 7 8]\n",
      "WARNING:root:The following classes have no ground truth examples: [0 3 4 5 6 7 8 9]\n",
      "WARNING:root:The following classes have no ground truth examples: [0 2 5 6 7 8 9]\n",
      "WARNING:root:The following classes have no ground truth examples: [0 2 3 4 5 6 8 9]\n",
      "WARNING:root:The following classes have no ground truth examples: [0 2 3 4 5 6 7 9]\n",
      "WARNING:root:The following classes have no ground truth examples: [0 2 3 4 5 6 7 8]\n",
      "WARNING:root:The following classes have no ground truth examples: [0 1 2 3 5 6 7 8 9]\n",
      "WARNING:root:The following classes have no ground truth examples: [0 2 3 4 5 6 7 8 9]\n",
      "WARNING:root:The following classes have no ground truth examples: [0 2 3 4 5 7 8]\n",
      "WARNING:root:The following classes have no ground truth examples: [0 3 4 5 6 7 8]\n",
      "WARNING:root:The following classes have no ground truth examples: [0 2 3 4 5 6 7 8]\n",
      "WARNING:root:The following classes have no ground truth examples: [0 4 5 6 7 8]\n"
     ]
    },
    {
     "name": "stderr",
     "output_type": "stream",
     "text": [
      "WARNING:root:The following classes have no ground truth examples: [0 1 2 3 5 6 7 8 9]\n",
      "WARNING:root:The following classes have no ground truth examples: [0 2 3 5 7 8]\n",
      "WARNING:root:The following classes have no ground truth examples: [0 2 3 4 5 6 7 8 9]\n",
      "WARNING:root:The following classes have no ground truth examples: [0 2 3 4 5 6 7 8 9]\n",
      "WARNING:root:The following classes have no ground truth examples: [0 2 3 4 5 6 7 8]\n",
      "WARNING:root:The following classes have no ground truth examples: [0 2 3 4 5 6 7 8]\n",
      "WARNING:root:The following classes have no ground truth examples: [0 2 3 4 5 6 7 8]\n",
      "WARNING:root:The following classes have no ground truth examples: [0 3 4 5 6 7 8]\n",
      "WARNING:root:The following classes have no ground truth examples: [0 2 3 4 5 6 7 8]\n",
      "WARNING:root:The following classes have no ground truth examples: [0 3 4 5 6 7 8]\n",
      "WARNING:root:The following classes have no ground truth examples: [0 2 3 4 5 6 7 8]\n",
      "WARNING:root:The following classes have no ground truth examples: [0 2 3 4 5 6 7 8]\n",
      "WARNING:root:The following classes have no ground truth examples: [0 3 5 7 8]\n",
      "WARNING:root:The following classes have no ground truth examples: [0 2 3 4 5 6 7 8]\n",
      "WARNING:root:The following classes have no ground truth examples: [0 2 3 4 5 7 8]\n",
      "WARNING:root:The following classes have no ground truth examples: [0 1 2 3 5 6 7 8]\n",
      "WARNING:root:The following classes have no ground truth examples: [0 2 3 4 5 6 7 8 9]\n",
      "WARNING:root:The following classes have no ground truth examples: [0 2 3 4 5 6 8]\n",
      "WARNING:root:The following classes have no ground truth examples: [0 4 5 6 7]\n",
      "WARNING:root:The following classes have no ground truth examples: [0 2 3 4 5 6 7 8]\n",
      "WARNING:root:The following classes have no ground truth examples: [0 3 4 5 6 7 8]\n",
      "WARNING:root:The following classes have no ground truth examples: [0 2 3 5 7 8]\n",
      "WARNING:root:The following classes have no ground truth examples: [0 3 4 5 7 8 9]\n",
      "WARNING:root:The following classes have no ground truth examples: [0 3 4 5 6 7 8]\n",
      "WARNING:root:The following classes have no ground truth examples: [0 2 3 4 5 6 7]\n",
      "WARNING:root:The following classes have no ground truth examples: [0 2 3 4 5 7 8]\n",
      "WARNING:root:The following classes have no ground truth examples: [0 2 4 5 6 7 8]\n",
      "WARNING:root:The following classes have no ground truth examples: [0 3 4 5 7 8]\n",
      "WARNING:root:The following classes have no ground truth examples: [0 2 3 4 5 6 7 8]\n",
      "WARNING:root:The following classes have no ground truth examples: [0 2 3 4 5 6 7 8]\n",
      "WARNING:root:The following classes have no ground truth examples: [0 3 5 7 8]\n",
      "WARNING:root:The following classes have no ground truth examples: [0 2 3 4 5 6 8]\n",
      "WARNING:root:The following classes have no ground truth examples: [0 2 3 4 5 6 7 8]\n",
      "WARNING:root:The following classes have no ground truth examples: [0 1 2 3 5 6 7 8 9]\n",
      "WARNING:root:The following classes have no ground truth examples: [0 1 2 3 5 6 7 8 9]\n",
      "WARNING:root:The following classes have no ground truth examples: [0 2 3 4 5 6 7 8 9]\n",
      "WARNING:root:The following classes have no ground truth examples: [0 2 3 4 5 8]\n",
      "WARNING:root:The following classes have no ground truth examples: [0 3 4 5 6 7 8]\n",
      "WARNING:root:The following classes have no ground truth examples: [0 2 3 4 5 6 7 8]\n",
      "WARNING:root:The following classes have no ground truth examples: [0 4 5 6 7 8]\n",
      "WARNING:root:The following classes have no ground truth examples: [0 3 4 5 6 7 8]\n",
      "WARNING:root:The following classes have no ground truth examples: [0 2 3 4 5 6 7 8]\n",
      "WARNING:root:The following classes have no ground truth examples: [0 2 3 4 5 6 7 8 9]\n",
      "WARNING:root:The following classes have no ground truth examples: [0 2 3 4 5 6 7 8 9]\n",
      "WARNING:root:The following classes have no ground truth examples: [0 3 7 8]\n",
      "WARNING:root:The following classes have no ground truth examples: [0 2 4 5 6 7]\n",
      "WARNING:root:The following classes have no ground truth examples: [0 1 2 3 5 6 7 8]\n",
      "WARNING:root:The following classes have no ground truth examples: [0 4 5 6 7 8]\n",
      "WARNING:root:The following classes have no ground truth examples: [0 2 3 4 5 6 8]\n",
      "WARNING:root:The following classes have no ground truth examples: [0 2 3 4 5 8 9]\n",
      "WARNING:root:The following classes have no ground truth examples: [0 2 3 5 6 7 8]\n",
      "WARNING:root:The following classes have no ground truth examples: [0 4 5 6 7 9]\n",
      "WARNING:root:The following classes have no ground truth examples: [0 2 3 4 5 6 7 8]\n",
      "WARNING:root:The following classes have no ground truth examples: [0 3 4 5 6 8]\n",
      "WARNING:root:The following classes have no ground truth examples: [0 2 3 4 5 6 7 8]\n",
      "WARNING:root:The following classes have no ground truth examples: [0 2 3 4 5 6 7 8]\n",
      "WARNING:root:The following classes have no ground truth examples: [0 2 4 5 6 7 8 9]\n",
      "WARNING:root:The following classes have no ground truth examples: [0 2 3 5 7 8]\n",
      "WARNING:root:The following classes have no ground truth examples: [0 2 3 4 5 6 7 8]\n",
      "WARNING:root:The following classes have no ground truth examples: [0 2 3 4 5 6 7]\n",
      "WARNING:root:The following classes have no ground truth examples: [0 2 3 4 5 7 8]\n",
      "WARNING:root:The following classes have no ground truth examples: [0 3 5 7 8]\n",
      "WARNING:root:The following classes have no ground truth examples: [0 2 4 5 6 7 8]\n",
      "WARNING:root:The following classes have no ground truth examples: [0 4 5 6 7 8]\n",
      "WARNING:root:The following classes have no ground truth examples: [0 2 3 4 5 6 7 8]\n",
      "WARNING:root:The following classes have no ground truth examples: [0 2 3 4 5 6 7 8]\n",
      "WARNING:root:The following classes have no ground truth examples: [0 2 3 4 5 6 7 8]\n",
      "WARNING:root:The following classes have no ground truth examples: [0 2 3 4 5 6 7]\n",
      "WARNING:root:The following classes have no ground truth examples: [0 3 5 6 7 8]\n",
      "WARNING:root:The following classes have no ground truth examples: [0 2 3 4 5 6 7 8]\n",
      "WARNING:root:The following classes have no ground truth examples: [0 2 3 4 5 6 7 8]\n",
      "WARNING:root:The following classes have no ground truth examples: [0 2 3 4 5 6 7 8]\n",
      "WARNING:root:The following classes have no ground truth examples: [0 3 4 5 6 7 8]\n",
      "WARNING:root:The following classes have no ground truth examples: [0 1 3 5 7 8]\n",
      "WARNING:root:The following classes have no ground truth examples: [0 1 2 3 5 6 7 8 9]\n",
      "WARNING:root:The following classes have no ground truth examples: [0 2 3 4 5 6 7]\n",
      "WARNING:root:The following classes have no ground truth examples: [0 2 3 4 5 6 7 8]\n",
      "WARNING:root:The following classes have no ground truth examples: [0 2 3 4 5 7 8]\n",
      "WARNING:root:The following classes have no ground truth examples: [0 4 5 6 7 8]\n",
      "WARNING:root:The following classes have no ground truth examples: [0 4 5 6 7 8]\n",
      "WARNING:root:The following classes have no ground truth examples: [0 2 3 4 5 6 7 8]\n",
      "WARNING:root:The following classes have no ground truth examples: [0 2 3 5 7 8]\n",
      "WARNING:root:The following classes have no ground truth examples: [0 2 3 5 6 7 8 9]\n",
      "WARNING:root:The following classes have no ground truth examples: [0 3 5 6 7 8]\n",
      "WARNING:root:The following classes have no ground truth examples: [0 2 4 5 7 8]\n",
      "WARNING:root:The following classes have no ground truth examples: [0 3 5 7 8]\n",
      "WARNING:root:The following classes have no ground truth examples: [0 3 4 5 6 7 8 9]\n",
      "WARNING:root:The following classes have no ground truth examples: [0 1 2 3 5 6 7 8 9]\n",
      "WARNING:root:The following classes have no ground truth examples: [0 2 3 4 5 6 7 8]\n",
      "WARNING:root:The following classes have no ground truth examples: [0 2 3 4 5 6 7 8]\n",
      "WARNING:root:The following classes have no ground truth examples: [0 3 4 5 6 7]\n",
      "WARNING:root:The following classes have no ground truth examples: [0 4 5 6 7 8]\n",
      "WARNING:root:The following classes have no ground truth examples: [0 3 4 5 6 7 8]\n",
      "WARNING:root:The following classes have no ground truth examples: [0 2 3 4 5 6 7 8]\n",
      "WARNING:root:The following classes have no ground truth examples: [0 2 3 4 5 7 8]\n",
      "WARNING:root:The following classes have no ground truth examples: [0 2 3 4 5 6 7 8 9]\n",
      "WARNING:root:The following classes have no ground truth examples: [0 3 4 5 7 8]\n",
      "WARNING:root:The following classes have no ground truth examples: [0 2 3 5 7 8]\n",
      "WARNING:root:The following classes have no ground truth examples: [0 2 3 4 5 6 7 8]\n",
      "WARNING:root:The following classes have no ground truth examples: [0 2 3 5 6 7 8]\n"
     ]
    },
    {
     "name": "stderr",
     "output_type": "stream",
     "text": [
      "WARNING:root:The following classes have no ground truth examples: [0 2 3 4 5 6 7 8]\n",
      "WARNING:root:The following classes have no ground truth examples: [0 2 3 4 5 6 7 8]\n",
      "WARNING:root:The following classes have no ground truth examples: [0 3 4 5 7 8 9]\n",
      "WARNING:root:The following classes have no ground truth examples: [0 2 4 5 6 7 8]\n",
      "WARNING:root:The following classes have no ground truth examples: [0 2 3 5 7 8]\n",
      "WARNING:root:The following classes have no ground truth examples: [0 2 4 5 6 7 8]\n",
      "WARNING:root:The following classes have no ground truth examples: [0 2 3 4 5 6 7 8]\n",
      "WARNING:root:The following classes have no ground truth examples: [0 3 4 5 6 7 8]\n",
      "WARNING:root:The following classes have no ground truth examples: [0 2 3 4 5 6 7 8]\n",
      "WARNING:root:The following classes have no ground truth examples: [0 3 5 6 7 8]\n",
      "WARNING:root:The following classes have no ground truth examples: [0 1 2 3 5 6 7 8 9]\n",
      "WARNING:root:The following classes have no ground truth examples: [0 2 3 4 5 6 7 8]\n",
      "WARNING:root:The following classes have no ground truth examples: [0 3 4 5 6 7 8]\n",
      "WARNING:root:The following classes have no ground truth examples: [0 2 3 4 5 6 7 8 9]\n",
      "WARNING:root:The following classes have no ground truth examples: [0 1 2 3 5 6 7 8 9]\n",
      "WARNING:root:The following classes have no ground truth examples: [0 3 5 7 8]\n",
      "WARNING:root:The following classes have no ground truth examples: [0 1 2 5 6 7 8 9]\n",
      "WARNING:root:The following classes have no ground truth examples: [0 2 3 5 6 7 8]\n",
      "WARNING:root:The following classes have no ground truth examples: [0 2 3 5 6 7 8 9]\n",
      "WARNING:root:The following classes have no ground truth examples: [0 2 3 4 5 6 7 8]\n",
      "WARNING:root:The following classes have no ground truth examples: [0 2 3 4 5 6 7]\n",
      "WARNING:root:The following classes have no ground truth examples: [0 2 3 4 5 6 7 8]\n",
      "WARNING:root:The following classes have no ground truth examples: [0 2 3 4 5 6 7]\n",
      "WARNING:root:The following classes have no ground truth examples: [0 2 4 5 6 7 8]\n",
      "WARNING:root:The following classes have no ground truth examples: [0 2 3 4 5 6 7 8]\n",
      "WARNING:root:The following classes have no ground truth examples: [0 3 4 5 6 7 9]\n",
      "WARNING:root:The following classes have no ground truth examples: [0 2 3 4 5 6 7 8]\n",
      "WARNING:root:The following classes have no ground truth examples: [0 2 3 4 6 7 8]\n",
      "WARNING:root:The following classes have no ground truth examples: [0 2 3 4 5 7 8]\n",
      "WARNING:root:The following classes have no ground truth examples: [0 2 3 4 5 6 7 8]\n",
      "WARNING:root:The following classes have no ground truth examples: [0 3 5 6 7 8]\n",
      "WARNING:root:The following classes have no ground truth examples: [0 2 3 6 7 8]\n",
      "WARNING:root:The following classes have no ground truth examples: [0 2 3 4 5 7 8]\n",
      "WARNING:root:The following classes have no ground truth examples: [0 2 3 4 5 6 7 8 9]\n",
      "WARNING:root:The following classes have no ground truth examples: [0 4 5 6 7 8 9]\n",
      "WARNING:root:The following classes have no ground truth examples: [0 4 5 6 7]\n",
      "WARNING:root:The following classes have no ground truth examples: [0 3 4 5 6 7 8]\n",
      "WARNING:root:The following classes have no ground truth examples: [0 2 3 4 5 7 8 9]\n",
      "WARNING:root:The following classes have no ground truth examples: [0 2 3 4 5 6 7 8]\n",
      "WARNING:root:The following classes have no ground truth examples: [0 2 4 5 6 7 8]\n",
      "WARNING:root:The following classes have no ground truth examples: [0 2 3 4 5 8]\n",
      "WARNING:root:The following classes have no ground truth examples: [0 1 2 3 5 7 8]\n",
      "WARNING:root:The following classes have no ground truth examples: [0 3 4 5 6 7 9]\n",
      "WARNING:root:The following classes have no ground truth examples: [0 5 6 7 8]\n",
      "WARNING:root:The following classes have no ground truth examples: [0 2 3 5 7 8]\n",
      "WARNING:root:The following classes have no ground truth examples: [0 2 3 4 5 6 8]\n",
      "WARNING:root:The following classes have no ground truth examples: [0 2 3 4 5 7 8]\n",
      "WARNING:root:The following classes have no ground truth examples: [0 2 3 4 5 6 7 8]\n",
      "WARNING:root:The following classes have no ground truth examples: [0 2 3 4 5 6 7 8]\n",
      "WARNING:root:The following classes have no ground truth examples: [0 3 4 5 6 7 8 9]\n",
      "WARNING:root:The following classes have no ground truth examples: [0 3 4 5 6 7 8]\n",
      "WARNING:root:The following classes have no ground truth examples: [0 2 3 4 5 7 8]\n",
      "WARNING:root:The following classes have no ground truth examples: [0 2 3 4 5 6 7 8]\n",
      "WARNING:root:The following classes have no ground truth examples: [0 2 3 4 5 6 7 8 9]\n",
      "WARNING:root:The following classes have no ground truth examples: [0 3 5 6 7]\n",
      "WARNING:root:The following classes have no ground truth examples: [0 2 3 4 5 6 7 8]\n",
      "WARNING:root:The following classes have no ground truth examples: [0 2 3 5 6 7 8]\n",
      "WARNING:root:The following classes have no ground truth examples: [0 1 2 5 6 7 8 9]\n",
      "WARNING:root:The following classes have no ground truth examples: [0 2 3 4 5 6 7 8]\n",
      "WARNING:root:The following classes have no ground truth examples: [0 3 4 5 6 7 8 9]\n",
      "WARNING:root:The following classes have no ground truth examples: [0 2 3 4 5 6 7 8]\n",
      "WARNING:root:The following classes have no ground truth examples: [0 3 4 5 6 7 8 9]\n",
      "WARNING:root:The following classes have no ground truth examples: [0 2 3 4 5 6 7 8]\n",
      "WARNING:root:The following classes have no ground truth examples: [0 4 5 6 7 8 9]\n",
      "WARNING:root:The following classes have no ground truth examples: [0 2 3 5 6 8]\n",
      "WARNING:root:The following classes have no ground truth examples: [0 2 4 5 6 7 8]\n",
      "WARNING:root:The following classes have no ground truth examples: [0 2 3 4 5 6 7 8]\n",
      "WARNING:root:The following classes have no ground truth examples: [0 2 3 4 5 6 7 8]\n",
      "WARNING:root:The following classes have no ground truth examples: [0 2 4 5 6 7 9]\n",
      "WARNING:root:The following classes have no ground truth examples: [0 3 5 7 8]\n",
      "WARNING:root:The following classes have no ground truth examples: [0 2 3 4 5 6 7 8]\n",
      "WARNING:root:The following classes have no ground truth examples: [0 2 3 4 5 7 8]\n",
      "WARNING:root:The following classes have no ground truth examples: [0 2 5 6 7 8]\n",
      "WARNING:root:The following classes have no ground truth examples: [0 3 4 5 6 7 8]\n",
      "WARNING:root:The following classes have no ground truth examples: [0 2 3 4 5 6 7 8]\n",
      "WARNING:root:The following classes have no ground truth examples: [0 2 3 4 5 6 7]\n",
      "WARNING:root:The following classes have no ground truth examples: [0 2 3 4 5 8]\n",
      "WARNING:root:The following classes have no ground truth examples: [0 2 3 4 5 6 7 8 9]\n",
      "WARNING:root:The following classes have no ground truth examples: [0 2 3 4 5 6 7 8 9]\n",
      "WARNING:root:The following classes have no ground truth examples: [0 3 4 5 6 7 8]\n",
      "WARNING:root:The following classes have no ground truth examples: [0 2 3 4 5 6 7 8 9]\n",
      "WARNING:root:The following classes have no ground truth examples: [0 2 3 5 7 8]\n",
      "WARNING:root:The following classes have no ground truth examples: [0 2 3 4 5 6 7 8 9]\n",
      "WARNING:root:The following classes have no ground truth examples: [0 3 4 5 6 7 9]\n",
      "WARNING:root:The following classes have no ground truth examples: [0 1 3 6 7 8]\n",
      "WARNING:root:The following classes have no ground truth examples: [0 2 3 4 5 6 7 8]\n",
      "WARNING:root:The following classes have no ground truth examples: [0 2 3 4 5 6 7 8]\n",
      "WARNING:root:The following classes have no ground truth examples: [0 2 4 5 6 7 8]\n",
      "WARNING:root:The following classes have no ground truth examples: [0 2 3 5 7 8]\n",
      "WARNING:root:The following classes have no ground truth examples: [0 2 3 4 5 6 7 8 9]\n",
      "WARNING:root:The following classes have no ground truth examples: [0 2 3 4 5 7 8]\n",
      "WARNING:root:The following classes have no ground truth examples: [0 2 4 5 6 7]\n",
      "WARNING:root:The following classes have no ground truth examples: [0 3 5 7 8]\n",
      "WARNING:root:The following classes have no ground truth examples: [0 2 3 4 5 8]\n",
      "WARNING:root:The following classes have no ground truth examples: [0 2 3 4 5 7 8]\n",
      "WARNING:root:The following classes have no ground truth examples: [0 2 3 4 5 6 7 8]\n",
      "WARNING:root:The following classes have no ground truth examples: [0 2 3 4 5 6 7 8]\n",
      "WARNING:root:The following classes have no ground truth examples: [0 2 3 4 5 6 7 8]\n",
      "WARNING:root:The following classes have no ground truth examples: [0 2 3 4 5 6 7]\n",
      "WARNING:root:The following classes have no ground truth examples: [0 4 5 6 7 8]\n"
     ]
    },
    {
     "name": "stderr",
     "output_type": "stream",
     "text": [
      "WARNING:root:The following classes have no ground truth examples: [0 2 3 4 5 6 7 8]\n",
      "WARNING:root:The following classes have no ground truth examples: [0 2 3 5 7 8]\n",
      "WARNING:root:The following classes have no ground truth examples: [0 2 3 4 5 6 7 8]\n",
      "WARNING:root:The following classes have no ground truth examples: [0 2 3 4 5 6 7 8]\n",
      "WARNING:root:The following classes have no ground truth examples: [0 1 2 3 5 7 8]\n",
      "WARNING:root:The following classes have no ground truth examples: [0 2 4 5 6 7 8]\n",
      "WARNING:root:The following classes have no ground truth examples: [0 2 3 4 5 6 7 8]\n",
      "WARNING:root:The following classes have no ground truth examples: [0 2 4 5 6 8 9]\n",
      "WARNING:root:The following classes have no ground truth examples: [0 2 3 4 5 6 7 8]\n",
      "WARNING:root:The following classes have no ground truth examples: [0 2 3 4 5 6 7 8 9]\n",
      "WARNING:root:The following classes have no ground truth examples: [0 2 3 4 5 6 7 8]\n",
      "WARNING:root:The following classes have no ground truth examples: [0 2 3 4 5 6 7 8]\n",
      "WARNING:root:The following classes have no ground truth examples: [0 2 3 4 5 8]\n",
      "WARNING:root:The following classes have no ground truth examples: [0 2 3 4 5 6 7 8 9]\n",
      "WARNING:root:The following classes have no ground truth examples: [0 2 4 5 6 7 8]\n",
      "WARNING:root:The following classes have no ground truth examples: [0 4 5 6 7 8]\n",
      "WARNING:root:The following classes have no ground truth examples: [0 3 4 5 6 7 8]\n",
      "WARNING:root:The following classes have no ground truth examples: [0 3 4 5 7 8]\n",
      "WARNING:root:The following classes have no ground truth examples: [0 3 4 5 6 7]\n",
      "WARNING:root:The following classes have no ground truth examples: [0 3 4 5 6 7 8]\n",
      "WARNING:root:The following classes have no ground truth examples: [0 2 3 5 6 7 8]\n",
      "WARNING:root:The following classes have no ground truth examples: [0 2 4 5 6 7 8]\n",
      "WARNING:root:The following classes have no ground truth examples: [0 2 3 4 5 6 7 8]\n",
      "WARNING:root:The following classes have no ground truth examples: [0 2 3 4 5 7 8]\n",
      "WARNING:root:The following classes have no ground truth examples: [0 1 3 5 7 8 9]\n",
      "WARNING:root:The following classes have no ground truth examples: [0 3 4 5 6 7 9]\n",
      "WARNING:root:The following classes have no ground truth examples: [0 2 3 4 5 6 8]\n",
      "WARNING:root:The following classes have no ground truth examples: [0 2 3 4 5 6 7 8 9]\n",
      "WARNING:root:The following classes have no ground truth examples: [0 3 4 5 6 7 8]\n",
      "WARNING:root:The following classes have no ground truth examples: [0 3 5 7 8]\n",
      "WARNING:root:The following classes have no ground truth examples: [0 2 3 4 5 6 7 8]\n",
      "WARNING:root:The following classes have no ground truth examples: [0 2 3 4 5 6 7 8 9]\n",
      "WARNING:root:The following classes have no ground truth examples: [0 1 2 3 5 6 7 8 9]\n",
      "WARNING:root:The following classes have no ground truth examples: [0 2 3 4 5 6 7 8]\n",
      "WARNING:root:The following classes have no ground truth examples: [0 4 5 6 7 8 9]\n",
      "WARNING:root:The following classes have no ground truth examples: [0 3 5 6 7 8]\n",
      "WARNING:root:The following classes have no ground truth examples: [0 3 4 5 6 7 8]\n",
      "WARNING:root:The following classes have no ground truth examples: [0 2 4 5 6 8]\n",
      "WARNING:root:The following classes have no ground truth examples: [0 2 3 4 5 6 7 8 9]\n",
      "WARNING:root:The following classes have no ground truth examples: [0 2 3 4 5 6 7 8 9]\n",
      "WARNING:root:The following classes have no ground truth examples: [0 3 5 6 7 8]\n",
      "WARNING:root:The following classes have no ground truth examples: [0 2 3 4 5 6 7 9]\n",
      "WARNING:root:The following classes have no ground truth examples: [0 2 4 5 6 7 8]\n",
      "WARNING:root:The following classes have no ground truth examples: [0 2 3 4 5 6 7 8]\n",
      "WARNING:root:The following classes have no ground truth examples: [0 2 4 5 6 7 8]\n",
      "WARNING:root:The following classes have no ground truth examples: [0 2 3 4 5 6 7]\n",
      "WARNING:root:The following classes have no ground truth examples: [0 2 3 4 5 6 7 8 9]\n",
      "WARNING:root:The following classes have no ground truth examples: [0 2 3 4 5 6 7 8]\n",
      "WARNING:root:The following classes have no ground truth examples: [0 3 4 5 6 7 8]\n",
      "WARNING:root:The following classes have no ground truth examples: [0 3 5 6 7 8]\n",
      "WARNING:root:The following classes have no ground truth examples: [0 2 3 4 5 7 8]\n",
      "WARNING:root:The following classes have no ground truth examples: [0 4 5 6 7 8]\n",
      "WARNING:root:The following classes have no ground truth examples: [0 2 3 4 5 7 8]\n",
      "WARNING:root:The following classes have no ground truth examples: [0 2 3 4 5 6 7 8]\n",
      "WARNING:root:The following classes have no ground truth examples: [0 3 4 5 6 7]\n",
      "WARNING:root:The following classes have no ground truth examples: [0 1 3 7 8]\n",
      "WARNING:root:The following classes have no ground truth examples: [0 2 3 4 5 6 7 8]\n",
      "WARNING:root:The following classes have no ground truth examples: [0 3 5 6 7 8 9]\n",
      "WARNING:root:The following classes have no ground truth examples: [0 3 4 5 6 7 8]\n",
      "WARNING:root:The following classes have no ground truth examples: [0 2 3 4 5 6 7 8]\n",
      "WARNING:root:The following classes have no ground truth examples: [0 2 3 4 5 6 7 8]\n",
      "WARNING:root:The following classes have no ground truth examples: [0 2 3 4 5 6 7 8 9]\n",
      "WARNING:root:The following classes have no ground truth examples: [0 1 2 3 5 6 7 8 9]\n",
      "WARNING:root:The following classes have no ground truth examples: [0 2 5 6 7 8 9]\n",
      "WARNING:root:The following classes have no ground truth examples: [0 2 3 4 5 6 7 8 9]\n",
      "WARNING:root:The following classes have no ground truth examples: [0 2 3 4 5 7 8]\n",
      "WARNING:root:The following classes have no ground truth examples: [0 2 3 4 5 6 7 8 9]\n",
      "WARNING:root:The following classes have no ground truth examples: [0 2 5 6 7 8]\n",
      "WARNING:root:The following classes have no ground truth examples: [0 2 4 5 6 7 9]\n",
      "WARNING:root:The following classes have no ground truth examples: [0 2 3 4 5 6 7 8]\n",
      "WARNING:root:The following classes have no ground truth examples: [0 1 2 3 5 7 8]\n",
      "WARNING:root:The following classes have no ground truth examples: [0 2 3 4 5 6 7 8]\n",
      "WARNING:root:The following classes have no ground truth examples: [0 2 3 5 6 7 8 9]\n",
      "WARNING:root:The following classes have no ground truth examples: [0 2 3 4 5 7 8]\n",
      "WARNING:root:The following classes have no ground truth examples: [0 1 2 3 5 7 8]\n",
      "WARNING:root:The following classes have no ground truth examples: [0 1 2 3 5 6 7 8 9]\n",
      "WARNING:root:The following classes have no ground truth examples: [0 4 5 6 7]\n",
      "WARNING:root:The following classes have no ground truth examples: [0 3 4 5 6 7 8]\n",
      "WARNING:root:The following classes have no ground truth examples: [0 2 3 4 5 6 7 8]\n",
      "WARNING:root:The following classes have no ground truth examples: [0 4 5 6 7 8]\n",
      "WARNING:root:The following classes have no ground truth examples: [0 1 3 5 6 7 8 9]\n",
      "WARNING:root:The following classes have no ground truth examples: [0 2 3 4 5 6 7 8 9]\n",
      "WARNING:root:The following classes have no ground truth examples: [0 2 3 4 5 6 7 8]\n",
      "WARNING:root:The following classes have no ground truth examples: [0 2 4 5 6 7 8]\n",
      "WARNING:root:The following classes have no ground truth examples: [0 2 3 4 5 7 8]\n",
      "WARNING:root:The following classes have no ground truth examples: [0 2 3 4 5 6 7 8]\n",
      "WARNING:root:The following classes have no ground truth examples: [0 4 5 6 7 9]\n",
      "WARNING:root:The following classes have no ground truth examples: [0 3 5 6 7 8]\n",
      "WARNING:root:The following classes have no ground truth examples: [0 2 3 4 5 8 9]\n",
      "WARNING:root:The following classes have no ground truth examples: [0 2 3 4 5 6 7 8 9]\n",
      "WARNING:root:The following classes have no ground truth examples: [0 2 3 4 5 6 7 8]\n",
      "WARNING:root:The following classes have no ground truth examples: [0 2 3 4 5 6 7]\n",
      "WARNING:root:The following classes have no ground truth examples: [0 2 5 6 7 8 9]\n",
      "WARNING:root:The following classes have no ground truth examples: [0 3 4 5 6 7 8]\n",
      "WARNING:root:The following classes have no ground truth examples: [0 3 4 5 6 7 8 9]\n",
      "WARNING:root:The following classes have no ground truth examples: [0 2 3 4 5 6 7 8]\n",
      "WARNING:root:The following classes have no ground truth examples: [0 2 3 4 5 6 7 8]\n",
      "WARNING:root:The following classes have no ground truth examples: [0 2 3 4 5 6 7]\n",
      "WARNING:root:The following classes have no ground truth examples: [0 2 3 4 5 6 7 8]\n"
     ]
    },
    {
     "name": "stderr",
     "output_type": "stream",
     "text": [
      "WARNING:root:The following classes have no ground truth examples: [0 3 4 5 6 7 8]\n",
      "WARNING:root:The following classes have no ground truth examples: [0 2 3 4 5 6 7 8 9]\n",
      "WARNING:root:The following classes have no ground truth examples: [0 1 2 3 5 6 7 8 9]\n",
      "WARNING:root:The following classes have no ground truth examples: [0 2 3 5 6 7 8]\n",
      "WARNING:root:The following classes have no ground truth examples: [0 2 4 5 6 7 8]\n",
      "WARNING:root:The following classes have no ground truth examples: [0 2 3 5 6 7 8]\n",
      "WARNING:root:The following classes have no ground truth examples: [0 2 3 4 5 6 7 8]\n",
      "WARNING:root:The following classes have no ground truth examples: [0 2 3 4 5 6 7 8 9]\n",
      "WARNING:root:The following classes have no ground truth examples: [0 2 3 4 5 6 7 8]\n",
      "WARNING:root:The following classes have no ground truth examples: [0 4 5 6 7 8]\n",
      "WARNING:root:The following classes have no ground truth examples: [0 3 4 5 7 8]\n",
      "WARNING:root:The following classes have no ground truth examples: [0 3 4 5 6 7 8]\n",
      "WARNING:root:The following classes have no ground truth examples: [0 1 2 3 5 6 7 8 9]\n",
      "WARNING:root:The following classes have no ground truth examples: [0 2 3 4 5 6 7 8 9]\n",
      "WARNING:root:The following classes have no ground truth examples: [0 1 2 3 5 7 8]\n",
      "WARNING:root:The following classes have no ground truth examples: [0 2 3 4 5 6 7 8]\n",
      "WARNING:root:The following classes have no ground truth examples: [0 2 3 4 5 6 7 8]\n",
      "WARNING:root:The following classes have no ground truth examples: [0 2 4 5 6 7 8]\n",
      "WARNING:root:The following classes have no ground truth examples: [0 2 3 4 5 6 7]\n",
      "WARNING:root:The following classes have no ground truth examples: [0 4 5 6 7 9]\n",
      "WARNING:root:The following classes have no ground truth examples: [0 2 3 5 6 7 8]\n",
      "WARNING:root:The following classes have no ground truth examples: [0 2 3 4 5 6 7 8 9]\n",
      "WARNING:root:The following classes have no ground truth examples: [0 3 4 5 6 7 8]\n",
      "WARNING:root:The following classes have no ground truth examples: [0 2 3 4 5 6 7 8]\n",
      "WARNING:root:The following classes have no ground truth examples: [0 2 3 4 5 6 7 8]\n",
      "WARNING:root:The following classes have no ground truth examples: [0 2 3 4 5 6 7 8]\n",
      "WARNING:root:The following classes have no ground truth examples: [0 2 3 4 5 6 7 8 9]\n",
      "WARNING:root:The following classes have no ground truth examples: [0 2 3 4 5 6 7 8]\n",
      "WARNING:root:The following classes have no ground truth examples: [0 2 3 4 5 6 7 8]\n",
      "WARNING:root:The following classes have no ground truth examples: [0 5 6 7 8]\n",
      "WARNING:root:The following classes have no ground truth examples: [0 2 3 5 7 8]\n",
      "WARNING:root:The following classes have no ground truth examples: [0 2 4 5 6 7 8]\n",
      "WARNING:root:The following classes have no ground truth examples: [0 3 5 6 7 8]\n",
      "WARNING:root:The following classes have no ground truth examples: [0 2 3 4 5 6 7 8]\n",
      "WARNING:root:The following classes have no ground truth examples: [0 2 3 4 5 6 7 8]\n",
      "WARNING:root:The following classes have no ground truth examples: [0 1 2 3 5 6 7 8]\n",
      "WARNING:root:The following classes have no ground truth examples: [0 2 3 5 6 7 8]\n",
      "WARNING:root:The following classes have no ground truth examples: [0 2 3 4 5 6 7 8]\n",
      "WARNING:root:The following classes have no ground truth examples: [0 1 2 3 5 6 7 8]\n",
      "WARNING:root:The following classes have no ground truth examples: [0 3 4 5 6 7 9]\n",
      "WARNING:root:The following classes have no ground truth examples: [0 2 4 5 6 7 8 9]\n",
      "WARNING:root:The following classes have no ground truth examples: [0 3 4 5 6 7 8]\n",
      "WARNING:root:The following classes have no ground truth examples: [0 2 3 4 5 6 7 8]\n",
      "WARNING:root:The following classes have no ground truth examples: [0 2 3 4 5 6 7 8]\n",
      "WARNING:root:The following classes have no ground truth examples: [0 2 4 5 6 7 8]\n",
      "WARNING:root:The following classes have no ground truth examples: [0 1 2 3 5 6 7 8 9]\n",
      "WARNING:root:The following classes have no ground truth examples: [0 2 3 4 5 6 7 8]\n",
      "WARNING:root:The following classes have no ground truth examples: [0 2 3 4 5 6 7]\n",
      "WARNING:root:The following classes have no ground truth examples: [0 4 5 6 7 8]\n",
      "WARNING:root:The following classes have no ground truth examples: [0 3 5 6 7 8]\n",
      "WARNING:root:The following classes have no ground truth examples: [0 3 4 5 6 7]\n",
      "WARNING:root:The following classes have no ground truth examples: [0 2 4 5 6 7 8]\n",
      "WARNING:root:The following classes have no ground truth examples: [0 2 4 5 6 7 8]\n",
      "WARNING:root:The following classes have no ground truth examples: [0 2 3 4 5 6 7 8]\n",
      "WARNING:root:The following classes have no ground truth examples: [0 1 2 3 5 7 8]\n",
      "WARNING:root:The following classes have no ground truth examples: [0 2 3 4 5 6 7 8]\n",
      "WARNING:root:The following classes have no ground truth examples: [0 2 3 4 5 6 7 8]\n",
      "WARNING:root:The following classes have no ground truth examples: [0 2 3 4 5 6 7 8]\n",
      "WARNING:root:The following classes have no ground truth examples: [0 3 4 5 7 8]\n",
      "WARNING:root:The following classes have no ground truth examples: [0 2 3 4 5 6 7 8]\n",
      "WARNING:root:The following classes have no ground truth examples: [0 2 3 4 5 6 7 8]\n",
      "WARNING:root:The following classes have no ground truth examples: [0 2 3 4 5 6 7 8]\n",
      "WARNING:root:The following classes have no ground truth examples: [0 2 3 4 5 6 7 8 9]\n",
      "WARNING:root:The following classes have no ground truth examples: [0 2 4 5 6 7]\n",
      "WARNING:root:The following classes have no ground truth examples: [0 3 4 5 6 7 8]\n",
      "WARNING:root:The following classes have no ground truth examples: [0 2 3 5 6 7 8]\n",
      "WARNING:root:The following classes have no ground truth examples: [0 2 3 5 6 7 8]\n",
      "WARNING:root:The following classes have no ground truth examples: [0 4 5 6 7 8 9]\n",
      "WARNING:root:The following classes have no ground truth examples: [0 2 3 4 5 6 7 8 9]\n",
      "WARNING:root:The following classes have no ground truth examples: [0 4 5 6 7 8 9]\n",
      "WARNING:root:The following classes have no ground truth examples: [0 1 2 3 5 7 8]\n",
      "WARNING:root:The following classes have no ground truth examples: [0 3 5 7 8]\n",
      "WARNING:root:The following classes have no ground truth examples: [0 2 3 4 5 6 7 8]\n",
      "WARNING:root:The following classes have no ground truth examples: [0 2 3 4 5 6 7]\n",
      "WARNING:root:The following classes have no ground truth examples: [0 2 3 4 5 6 7 8]\n",
      "WARNING:root:The following classes have no ground truth examples: [0 2 3 4 5 6 7 8]\n",
      "WARNING:root:The following classes have no ground truth examples: [0 3 5 6 7 8]\n",
      "WARNING:root:The following classes have no ground truth examples: [0 4 5 6 7 8]\n",
      "WARNING:root:The following classes have no ground truth examples: [0 2 5 6 8]\n",
      "WARNING:root:The following classes have no ground truth examples: [0 1 2 3 5 6 7 8]\n",
      "WARNING:root:The following classes have no ground truth examples: [0 3 4 5 6 7 8]\n",
      "WARNING:root:The following classes have no ground truth examples: [0 2 3 4 6 7 8]\n",
      "WARNING:root:The following classes have no ground truth examples: [0 2 4 5 6 7 8]\n",
      "WARNING:root:The following classes have no ground truth examples: [0 2 4 5 6 7 8 9]\n",
      "WARNING:root:The following classes have no ground truth examples: [0 2 4 5 6 8]\n",
      "WARNING:root:The following classes have no ground truth examples: [0 2 3 4 5 6 7 8]\n",
      "WARNING:root:The following classes have no ground truth examples: [0 2 3 4 5 6 7 8]\n",
      "WARNING:root:The following classes have no ground truth examples: [0 2 3 4 5 6 7 8]\n",
      "WARNING:root:The following classes have no ground truth examples: [0 3 4 5 6 7 9]\n",
      "WARNING:root:The following classes have no ground truth examples: [0 2 3 4 5 6 7 8]\n",
      "WARNING:root:The following classes have no ground truth examples: [0 2 4 5 6 7 8]\n",
      "WARNING:root:The following classes have no ground truth examples: [0 2 4 5 6 7 8]\n",
      "WARNING:root:The following classes have no ground truth examples: [0 1 2 3 5 6 7 8 9]\n",
      "WARNING:root:The following classes have no ground truth examples: [0 3 4 5 6 7 8 9]\n",
      "WARNING:root:The following classes have no ground truth examples: [0 2 4 5 6 7 8]\n",
      "WARNING:root:The following classes have no ground truth examples: [0 3 4 5 6 7 8 9]\n",
      "WARNING:root:The following classes have no ground truth examples: [0 3 4 5 6 7 8 9]\n",
      "WARNING:root:The following classes have no ground truth examples: [0 2 3 4 5 6 7 8]\n",
      "WARNING:root:The following classes have no ground truth examples: [0 2 4 5 6 8]\n"
     ]
    },
    {
     "name": "stderr",
     "output_type": "stream",
     "text": [
      "WARNING:root:The following classes have no ground truth examples: [0 3 5 6 7 8]\n",
      "WARNING:root:The following classes have no ground truth examples: [0 2 3 4 5 8]\n",
      "WARNING:root:The following classes have no ground truth examples: [0 3 4 5 6 7]\n",
      "WARNING:root:The following classes have no ground truth examples: [0 3 5 6 7 8 9]\n",
      "WARNING:root:The following classes have no ground truth examples: [0 2 3 4 5 6 7 8 9]\n",
      "WARNING:root:The following classes have no ground truth examples: [0 1 2 3 5 6 7 8 9]\n",
      "WARNING:root:The following classes have no ground truth examples: [0 2 3 4 5 6 7 8]\n",
      "WARNING:root:The following classes have no ground truth examples: [0 2 3 4 5 6 7 8]\n",
      "WARNING:root:The following classes have no ground truth examples: [0 2 3 4 5 6 7 8]\n",
      "WARNING:root:The following classes have no ground truth examples: [0 1 2 3 5 6 7 8 9]\n",
      "WARNING:root:The following classes have no ground truth examples: [0 3 4 5 6 7 8]\n",
      "WARNING:root:The following classes have no ground truth examples: [0 2 3 4 5 6 7 8]\n",
      "WARNING:root:The following classes have no ground truth examples: [0 1 2 3 5 7]\n",
      "WARNING:root:The following classes have no ground truth examples: [0 2 3 4 5 6 7 8]\n",
      "WARNING:root:The following classes have no ground truth examples: [0 3 4 5 6 7 8]\n",
      "WARNING:root:The following classes have no ground truth examples: [0 3 4 5 6 7 8]\n",
      "WARNING:root:The following classes have no ground truth examples: [0 3 5 6 7 8]\n",
      "WARNING:root:The following classes have no ground truth examples: [0 3 4 5 6 7]\n",
      "WARNING:root:The following classes have no ground truth examples: [0 2 3 4 5 8]\n",
      "WARNING:root:The following classes have no ground truth examples: [0 2 3 4 5 6 7 8 9]\n",
      "WARNING:root:The following classes have no ground truth examples: [0 3 7 8]\n",
      "WARNING:root:The following classes have no ground truth examples: [0 5 6 7 8]\n",
      "WARNING:root:The following classes have no ground truth examples: [0 2 4 5 6 7 8]\n",
      "WARNING:root:The following classes have no ground truth examples: [0 2 3 5 6 7 8]\n",
      "WARNING:root:The following classes have no ground truth examples: [0 4 5 6 7 8]\n",
      "WARNING:root:The following classes have no ground truth examples: [0 2 4 5 6 7 8]\n",
      "WARNING:root:The following classes have no ground truth examples: [0 3 4 5 6 7 8 9]\n",
      "WARNING:root:The following classes have no ground truth examples: [0 2 3 4 5 7 8]\n",
      "WARNING:root:The following classes have no ground truth examples: [0 1 3 5 7 8]\n",
      "WARNING:root:The following classes have no ground truth examples: [0 2 4 5 7 8]\n",
      "WARNING:root:The following classes have no ground truth examples: [0 3 4 5 6 7 8]\n",
      "WARNING:root:The following classes have no ground truth examples: [0 3 4 5 6 7 8 9]\n",
      "WARNING:root:The following classes have no ground truth examples: [0 2 3 4 5 6 7 8]\n",
      "WARNING:root:The following classes have no ground truth examples: [0 2 4 5 6 7 8]\n",
      "WARNING:root:The following classes have no ground truth examples: [0 2 4 5 6 7 8]\n",
      "WARNING:root:The following classes have no ground truth examples: [0 1 2 3 5 6 7 8]\n",
      "WARNING:root:The following classes have no ground truth examples: [0 2 3 4 5 7 8]\n",
      "WARNING:root:The following classes have no ground truth examples: [0 3 4 5 6 7 8]\n",
      "WARNING:root:The following classes have no ground truth examples: [0 3 5 6 7 8]\n",
      "WARNING:root:The following classes have no ground truth examples: [0 2 3 4 5 6 7 8 9]\n",
      "WARNING:root:The following classes have no ground truth examples: [0 3 4 5 6 7 8 9]\n",
      "WARNING:root:The following classes have no ground truth examples: [0 2 3 4 5 6 7]\n",
      "WARNING:root:The following classes have no ground truth examples: [0 2 3 4 5 6 7 8]\n",
      "WARNING:root:The following classes have no ground truth examples: [0 2 3 5 6 7 8 9]\n",
      "WARNING:root:The following classes have no ground truth examples: [0 2 3 5 7 8]\n",
      "WARNING:root:The following classes have no ground truth examples: [0 3 5 6 7 8]\n",
      "WARNING:root:The following classes have no ground truth examples: [0 2 3 4 5 6 7 8 9]\n",
      "WARNING:root:The following classes have no ground truth examples: [0 3 4 5 6 7 8]\n",
      "WARNING:root:The following classes have no ground truth examples: [0 2 3 4 5 6 7 8 9]\n",
      "WARNING:root:The following classes have no ground truth examples: [0 3 4 5 6 7 8]\n",
      "WARNING:root:The following classes have no ground truth examples: [0 3 4 5 6 7]\n",
      "WARNING:root:The following classes have no ground truth examples: [0 2 3 5 6 7 8]\n",
      "WARNING:root:The following classes have no ground truth examples: [0 2 3 4 5 6 7 8]\n"
     ]
    }
   ],
   "source": [
    "%%capture\n",
    "img_scores = {image_id: evaluate_detection_results_pascal_voc(\n",
    "    get_dict_slice(res, slice(i, i+1)), categories)\n",
    "              for i, image_id in enumerate((res['image_id'][:-1]))}\n",
    "                                           \n",
    "                                           "
   ]
  },
  {
   "cell_type": "code",
   "execution_count": 80,
   "metadata": {
    "collapsed": true
   },
   "outputs": [],
   "source": [
    "OVERALL_PERF_KEY = 'Precision/mAP@0.5IOU'"
   ]
  },
  {
   "cell_type": "code",
   "execution_count": null,
   "metadata": {
    "collapsed": true
   },
   "outputs": [],
   "source": []
  },
  {
   "cell_type": "code",
   "execution_count": 81,
   "metadata": {},
   "outputs": [],
   "source": [
    "#pickle.dump(res, open('mobile_net_valid_results_dct.pkl', 'wb'))"
   ]
  },
  {
   "cell_type": "code",
   "execution_count": 82,
   "metadata": {},
   "outputs": [
    {
     "data": {
      "text/plain": [
       "'3528'"
      ]
     },
     "execution_count": 82,
     "metadata": {},
     "output_type": "execute_result"
    }
   ],
   "source": [
    "res['image_id'][0]"
   ]
  },
  {
   "cell_type": "code",
   "execution_count": 91,
   "metadata": {},
   "outputs": [],
   "source": [
    "from kitti_constants import name_to_id\n",
    "from object_detection.utils.visualization_utils import visualize_boxes_and_labels_on_image_array\n",
    "from utils.kitti import get_boxes_scores_classes, visualize_predictions"
   ]
  },
  {
   "cell_type": "code",
   "execution_count": 48,
   "metadata": {},
   "outputs": [],
   "source": [
    "def get_img_scores(image_path):\n",
    "    imageid = os.path.basename(image_path)[:-4]\n",
    "    return pd.Series(img_scores[imageid]).round(2).dropna()\n",
    "        "
   ]
  },
  {
   "cell_type": "code",
   "execution_count": null,
   "metadata": {},
   "outputs": [],
   "source": [
    "%%time\n",
    "%precision 4\n",
    "import time\n",
    "with detection_graph.as_default():\n",
    "    with tf.Session(graph=detection_graph) as sess:\n",
    "        image_path = np.random.choice(test_image_paths)\n",
    "        image = Image.open(image_path)\n",
    "        image_np = load_image_into_numpy_array(image)\n",
    "        start = time.time()\n",
    "        image_process = visualize_predictions(image_np, sess, detection_graph)\n",
    "        # boxes, scores, classes, num_detections = get_boxes_scores_classes(image_np, sess, detection_graph)\n",
    "        print('inference time: {} seconds'.format(\n",
    "            np.round(time.time() -  start, 2)))\n",
    "        print ('MaP scores\\n{}'.format(get_img_scores(image_path)))\n",
    "        plt.figure(figsize=FIGSIZE)\n",
    "        plt.imshow(image_process)\n",
    "        plt.title('Model', fontsize=16)\n",
    "        #plt.imsave(image_process, 'worst_prediction labs.jpg')\n",
    "        plt.figure(figsize=FIGSIZE)\n",
    "        truth_img = show_groundtruth(image_path)\n",
    "        plt.imshow(truth_img)\n",
    "        plt.title('Human Labels', fontsize=16)\n",
    "        plt.figure(figsize=FIGSIZE)\n",
    "        plt.imshow(load_image_into_numpy_array(Image.open(image_path)))\n",
    "        plt.title('Raw Image')\n",
    "        #plt.savefig('worst_prediction labs.jpg')"
   ]
  },
  {
   "cell_type": "code",
   "execution_count": null,
   "metadata": {
    "collapsed": true
   },
   "outputs": [],
   "source": []
  }
 ],
 "metadata": {
  "kernelspec": {
   "display_name": "Python 3",
   "language": "python",
   "name": "python3"
  },
  "language_info": {
   "codemirror_mode": {
    "name": "ipython",
    "version": 3
   },
   "file_extension": ".py",
   "mimetype": "text/x-python",
   "name": "python",
   "nbconvert_exporter": "python",
   "pygments_lexer": "ipython3",
   "version": "3.6.2"
  },
  "widgets": {
   "state": {},
   "version": "1.1.2"
  }
 },
 "nbformat": 4,
 "nbformat_minor": 2
}
